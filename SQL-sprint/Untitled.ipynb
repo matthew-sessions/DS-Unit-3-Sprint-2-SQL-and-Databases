{
 "cells": [
  {
   "cell_type": "code",
   "execution_count": 5,
   "metadata": {},
   "outputs": [],
   "source": [
    "import sqlite3 as sql3\n",
    "\n",
    "conn = sql3.connect('northwind_small.sqlite3')\n",
    "curs = conn.cursor()"
   ]
  },
  {
   "cell_type": "code",
   "execution_count": 6,
   "metadata": {},
   "outputs": [],
   "source": [
    "def get_scalar_result(conn, sql):\n",
    "    cursor=conn.cursor()\n",
    "    cursor.execute(sql)\n",
    "    return cursor.fetchall()"
   ]
  },
  {
   "cell_type": "code",
   "execution_count": 13,
   "metadata": {},
   "outputs": [],
   "source": [
    "productprice = 'select ProductName, UnitPrice from Product order by UnitPrice desc limit 10;'\n",
    "top10 = get_scalar_result(conn, productprice)"
   ]
  },
  {
   "cell_type": "code",
   "execution_count": 17,
   "metadata": {},
   "outputs": [
    {
     "name": "stdout",
     "output_type": "stream",
     "text": [
      "The top 10 most expensive products are:\n",
      "Côte de Blaye: $263.5\n",
      "Thüringer Rostbratwurst: $123.79\n",
      "Mishi Kobe Niku: $97\n",
      "Sir Rodney's Marmalade: $81\n",
      "Carnarvon Tigers: $62.5\n",
      "Raclette Courdavault: $55\n",
      "Manjimup Dried Apples: $53\n",
      "Tarte au sucre: $49.3\n",
      "Ipoh Coffee: $46\n",
      "Rössle Sauerkraut: $45.6\n",
      "\n",
      "-----------\n",
      "\n"
     ]
    }
   ],
   "source": [
    "print('\\nThe top 10 most expensive products are:')\n",
    "for i in top10:\n",
    "    print(f'{i[0]}: ${i[1]}')\n",
    "    \n",
    "print('\\n-------------------\\n')"
   ]
  },
  {
   "cell_type": "code",
   "execution_count": 21,
   "metadata": {},
   "outputs": [
    {
     "name": "stdout",
     "output_type": "stream",
     "text": [
      "The avage age per hire is 37.\n",
      "\n",
      "-------------------\n",
      "\n"
     ]
    }
   ],
   "source": [
    "avgage = 'select avg((julianday(HireDate)- julianday(BirthDate))/365) as avgage from Employee;'\n",
    "age = get_scalar_result(conn, avgage)\n",
    "print(f'The avage age per hire is {round(age[0][0])}.')\n",
    "print('\\n-------------------\\n')"
   ]
  },
  {
   "cell_type": "code",
   "execution_count": 22,
   "metadata": {},
   "outputs": [
    {
     "name": "stdout",
     "output_type": "stream",
     "text": [
      "The average age by City - \n",
      "\n",
      "Kirkland: 29 years old.\n",
      "London: 33 years old.\n",
      "Redmond: 56 years old.\n",
      "Seattle: 40 years old.\n",
      "Tacoma: 41 years old.\n"
     ]
    }
   ],
   "source": [
    "agebycity = 'select City, avg((julianday(HireDate)- julianday(BirthDate))/365) as avgage from Employee group by City;'\n",
    "abc = get_scalar_result(conn,agebycity)\n",
    "print('The average age by City - \\n')\n",
    "for i in abc:\n",
    "    print(f'{i[0]}: {round(i[1])} years old.')"
   ]
  },
  {
   "cell_type": "code",
   "execution_count": null,
   "metadata": {},
   "outputs": [],
   "source": []
  }
 ],
 "metadata": {
  "kernelspec": {
   "display_name": "Python 3",
   "language": "python",
   "name": "python3"
  },
  "language_info": {
   "codemirror_mode": {
    "name": "ipython",
    "version": 3
   },
   "file_extension": ".py",
   "mimetype": "text/x-python",
   "name": "python",
   "nbconvert_exporter": "python",
   "pygments_lexer": "ipython3",
   "version": "3.7.3"
  }
 },
 "nbformat": 4,
 "nbformat_minor": 2
}
